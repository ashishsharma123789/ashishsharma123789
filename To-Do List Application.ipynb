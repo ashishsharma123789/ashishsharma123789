{
 "cells": [
  {
   "cell_type": "code",
   "execution_count": 1,
   "id": "be5cb566",
   "metadata": {},
   "outputs": [],
   "source": [
    "class TaskManager:\n",
    "    def __init__(self):\n",
    "        self.tasks = []\n",
    "\n",
    "    def add_task(self, task):\n",
    "        self.tasks.append({\"task\": task, \"completed\": False})\n",
    "\n",
    "    def update_task(self, index, new_task):\n",
    "        if 0 <= index < len(self.tasks):\n",
    "            self.tasks[index][\"task\"] = new_task\n",
    "\n",
    "    def mark_task_complete(self, index):\n",
    "        if 0 <= index < len(self.tasks):\n",
    "            self.tasks[index][\"completed\"] = True\n",
    "\n",
    "    def delete_task(self, index):\n",
    "        if 0 <= index < len(self.tasks):\n",
    "            del self.tasks[index]\n",
    "\n",
    "    def get_tasks(self):\n",
    "        return self.tasks"
   ]
  },
  {
   "cell_type": "code",
   "execution_count": 2,
   "id": "7a0a83ec",
   "metadata": {},
   "outputs": [],
   "source": [
    "import json\n",
    "\n",
    "def save_tasks(tasks, filename=\"tasks.json\"):\n",
    "    with open(filename, \"w\") as file:\n",
    "        json.dump(tasks, file)\n",
    "\n",
    "def load_tasks(filename=\"tasks.json\"):\n",
    "    try:\n",
    "        with open(filename, \"r\") as file:\n",
    "            return json.load(file)\n",
    "    except FileNotFoundError:\n",
    "        return []"
   ]
  },
  {
   "cell_type": "code",
   "execution_count": 3,
   "id": "1d312f8d",
   "metadata": {},
   "outputs": [
    {
     "data": {
      "application/vnd.jupyter.widget-view+json": {
       "model_id": "5af04c08545044598658684488b767c6",
       "version_major": 2,
       "version_minor": 0
      },
      "text/plain": [
       "Text(value='', placeholder='Enter a new task')"
      ]
     },
     "metadata": {},
     "output_type": "display_data"
    },
    {
     "data": {
      "application/vnd.jupyter.widget-view+json": {
       "model_id": "b1a447d3a5ca41bab67d4d8b1e3cafe2",
       "version_major": 2,
       "version_minor": 0
      },
      "text/plain": [
       "Button(description='Add Task', style=ButtonStyle())"
      ]
     },
     "metadata": {},
     "output_type": "display_data"
    },
    {
     "data": {
      "application/vnd.jupyter.widget-view+json": {
       "model_id": "cf2d1c9b313e4784805f718a8ea423fe",
       "version_major": 2,
       "version_minor": 0
      },
      "text/plain": [
       "Button(description='Update Task', style=ButtonStyle())"
      ]
     },
     "metadata": {},
     "output_type": "display_data"
    },
    {
     "data": {
      "application/vnd.jupyter.widget-view+json": {
       "model_id": "5e01a71fd95649f3a2550d0e5791e761",
       "version_major": 2,
       "version_minor": 0
      },
      "text/plain": [
       "Button(description='Mark Complete', style=ButtonStyle())"
      ]
     },
     "metadata": {},
     "output_type": "display_data"
    },
    {
     "data": {
      "application/vnd.jupyter.widget-view+json": {
       "model_id": "cac7f8880e84436ab6a4b42b02b39e2d",
       "version_major": 2,
       "version_minor": 0
      },
      "text/plain": [
       "Button(description='Delete Task', style=ButtonStyle())"
      ]
     },
     "metadata": {},
     "output_type": "display_data"
    },
    {
     "data": {
      "application/vnd.jupyter.widget-view+json": {
       "model_id": "0b9f52e13f574a809df8df9da80225ef",
       "version_major": 2,
       "version_minor": 0
      },
      "text/plain": [
       "Text(value='', placeholder='Enter task number')"
      ]
     },
     "metadata": {},
     "output_type": "display_data"
    },
    {
     "data": {
      "application/vnd.jupyter.widget-view+json": {
       "model_id": "4d2b10e445514119880f677ebc9d33db",
       "version_major": 2,
       "version_minor": 0
      },
      "text/plain": [
       "Output()"
      ]
     },
     "metadata": {},
     "output_type": "display_data"
    }
   ],
   "source": [
    "import ipywidgets as widgets\n",
    "from IPython.display import display, clear_output\n",
    "\n",
    "# Initialize Task Manager and load tasks\n",
    "task_manager = TaskManager()\n",
    "task_manager.tasks = load_tasks()\n",
    "\n",
    "# Widgets for user input\n",
    "task_input = widgets.Text(placeholder=\"Enter a new task\")\n",
    "task_index_input = widgets.Text(placeholder=\"Enter task number\")\n",
    "add_button = widgets.Button(description=\"Add Task\")\n",
    "update_button = widgets.Button(description=\"Update Task\")\n",
    "complete_button = widgets.Button(description=\"Mark Complete\")\n",
    "delete_button = widgets.Button(description=\"Delete Task\")\n",
    "output = widgets.Output()\n",
    "\n",
    "# Function to refresh and display tasks\n",
    "def display_tasks():\n",
    "    output.clear_output()\n",
    "    with output:\n",
    "        tasks = task_manager.get_tasks()\n",
    "        if not tasks:\n",
    "            print(\"No tasks available.\")\n",
    "        else:\n",
    "            for i, task in enumerate(tasks):\n",
    "                status = \"✓\" if task[\"completed\"] else \"✗\"\n",
    "                print(f\"{i + 1}. {task['task']} [{status}]\")\n",
    "\n",
    "# Button callback functions\n",
    "def add_task_handler(b):\n",
    "    task = task_input.value\n",
    "    if task:\n",
    "        task_manager.add_task(task)\n",
    "        task_input.value = \"\"\n",
    "        save_tasks(task_manager.get_tasks())\n",
    "        display_tasks()\n",
    "\n",
    "def update_task_handler(b):\n",
    "    try:\n",
    "        index = int(task_index_input.value) - 1\n",
    "        new_task = task_input.value\n",
    "        task_manager.update_task(index, new_task)\n",
    "        task_index_input.value = \"\"\n",
    "        task_input.value = \"\"\n",
    "        save_tasks(task_manager.get_tasks())\n",
    "        display_tasks()\n",
    "    except ValueError:\n",
    "        print(\"Enter a valid task number\")\n",
    "\n",
    "def complete_task_handler(b):\n",
    "    try:\n",
    "        index = int(task_index_input.value) - 1\n",
    "        task_manager.mark_task_complete(index)\n",
    "        task_index_input.value = \"\"\n",
    "        save_tasks(task_manager.get_tasks())\n",
    "        display_tasks()\n",
    "    except ValueError:\n",
    "        print(\"Enter a valid task number\")\n",
    "\n",
    "def delete_task_handler(b):\n",
    "    try:\n",
    "        index = int(task_index_input.value) - 1\n",
    "        task_manager.delete_task(index)\n",
    "        task_index_input.value = \"\"\n",
    "        save_tasks(task_manager.get_tasks())\n",
    "        display_tasks()\n",
    "    except ValueError:\n",
    "        print(\"Enter a valid task number\")\n",
    "\n",
    "# Attach button click events to handler functions\n",
    "add_button.on_click(add_task_handler)\n",
    "update_button.on_click(update_task_handler)\n",
    "complete_button.on_click(complete_task_handler)\n",
    "delete_button.on_click(delete_task_handler)\n",
    "\n",
    "# Display the widgets\n",
    "display(task_input, add_button, update_button, complete_button, delete_button, task_index_input, output)\n",
    "display_tasks()"
   ]
  },
  {
   "cell_type": "code",
   "execution_count": null,
   "id": "593f6bc4",
   "metadata": {},
   "outputs": [],
   "source": []
  }
 ],
 "metadata": {
  "kernelspec": {
   "display_name": "Python 3 (ipykernel)",
   "language": "python",
   "name": "python3"
  },
  "language_info": {
   "codemirror_mode": {
    "name": "ipython",
    "version": 3
   },
   "file_extension": ".py",
   "mimetype": "text/x-python",
   "name": "python",
   "nbconvert_exporter": "python",
   "pygments_lexer": "ipython3",
   "version": "3.11.4"
  }
 },
 "nbformat": 4,
 "nbformat_minor": 5
}
