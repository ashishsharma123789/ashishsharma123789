{
 "cells": [
  {
   "cell_type": "code",
   "execution_count": null,
   "id": "d5fc7ce5",
   "metadata": {},
   "outputs": [
    {
     "name": "stdout",
     "output_type": "stream",
     "text": [
      "Enter you passwordashdshlh\n",
      "WeakAt least one uppercase letter,At least one digit,At least one special character\n",
      "Enter you passwordAsdfgf67787\n",
      "WeakAt least one special character\n"
     ]
    }
   ],
   "source": [
    "import string\n",
    "\n",
    "def evaluate_password(password):\n",
    "    length=len(password)>=8\n",
    "    upper=any(char in string.ascii_uppercase for char in password)\n",
    "    lower=any(char in string.ascii_lowercase for char in password)\n",
    "    digit=any(char.isdigit()for char in password)\n",
    "    special=any(char in string.punctuation for char in password)\n",
    "    \n",
    "    if length and upper and lower and digit and special:\n",
    "        print(\"Your password is strong!!\")\n",
    "    else:\n",
    "        strength=[]\n",
    "        if not length:\n",
    "            strength.append(\"At least 8 character long\")\n",
    "        if not upper:\n",
    "            strength.append(\"At least one uppercase letter\")\n",
    "        if not lower:\n",
    "            strength.append(\"At least one lowercase letter\")\n",
    "        if not digit:\n",
    "            strength.append(\"At least one digit\")\n",
    "        if not special:\n",
    "            strength.append(\"At least one special character\")\n",
    "        print(\"Weak\"+\",\".join(strength))\n",
    "        password=input(\"Enter you password\")\n",
    "        evaluate_password(password)\n",
    "\n",
    "password=input(\"Enter you password\")\n",
    "evaluate_password(password)"
   ]
  },
  {
   "cell_type": "code",
   "execution_count": null,
   "id": "2beb7d93",
   "metadata": {},
   "outputs": [],
   "source": []
  }
 ],
 "metadata": {
  "kernelspec": {
   "display_name": "Python 3 (ipykernel)",
   "language": "python",
   "name": "python3"
  },
  "language_info": {
   "codemirror_mode": {
    "name": "ipython",
    "version": 3
   },
   "file_extension": ".py",
   "mimetype": "text/x-python",
   "name": "python",
   "nbconvert_exporter": "python",
   "pygments_lexer": "ipython3",
   "version": "3.11.4"
  }
 },
 "nbformat": 4,
 "nbformat_minor": 5
}
