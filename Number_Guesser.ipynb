{
 "cells": [
  {
   "cell_type": "code",
   "execution_count": null,
   "id": "e27a3843",
   "metadata": {},
   "outputs": [
    {
     "name": "stdout",
     "output_type": "stream",
     "text": [
      "\t\t\t\t     Number Guesser\n",
      "\t\t\t\t --------------------\n",
      "Enter the minimum number in the range:34\n",
      "Enter the maximum number in the range:78\n",
      "Guess the number between34 and 7856\n",
      "Low!Try again\n"
     ]
    }
   ],
   "source": [
    "import random\n",
    "print(\"\\t\\t\\t\\t     Number Guesser\")\n",
    "print(\"\\t\\t\\t\\t --------------------\")\n",
    "\n",
    "def feedback(guess, number, min_num, max_num):\n",
    "    range_size=max_num-min_num\n",
    "    if abs(guess-number)>range_size*0.2:\n",
    "        if guess>number:\n",
    "            print(\"Too low! Try again\")\n",
    "        else:\n",
    "            print(\"Too high! Try again\")\n",
    "    else:\n",
    "        print(\"Low!Try again\" if guess<number else \"High!Try again\")\n",
    "def guess_the_number(min_num,max_num):\n",
    "    number=random.randint(min_num,max_num)\n",
    "    while True:\n",
    "        guess=int(input(f\"Guess the number between{min_num} and {max_num}\"))\n",
    "        if guess==number:\n",
    "            print(\"Congratulation!You guess the correct number:\", number)\n",
    "            break\n",
    "        else:\n",
    "            feedback(guess,number,min_num,max_num)\n",
    "    play_again=input(\"Wanna play again?(y/n):\").lower()\n",
    "    if play_again=='y':\n",
    "        guess_the_number(min_num,max_num)\n",
    "    else:\n",
    "        print(\"Thank you playing!\")\n",
    "min_range=int(input(\"Enter the minimum number in the range:\"))\n",
    "max_range=int(input(\"Enter the maximum number in the range:\"))\n",
    "guess_the_number(min_range,max_range)"
   ]
  },
  {
   "cell_type": "code",
   "execution_count": null,
   "id": "bcd6c2df",
   "metadata": {},
   "outputs": [],
   "source": []
  }
 ],
 "metadata": {
  "kernelspec": {
   "display_name": "Python 3 (ipykernel)",
   "language": "python",
   "name": "python3"
  },
  "language_info": {
   "codemirror_mode": {
    "name": "ipython",
    "version": 3
   },
   "file_extension": ".py",
   "mimetype": "text/x-python",
   "name": "python",
   "nbconvert_exporter": "python",
   "pygments_lexer": "ipython3",
   "version": "3.11.4"
  }
 },
 "nbformat": 4,
 "nbformat_minor": 5
}
