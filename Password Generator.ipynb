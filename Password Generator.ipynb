{
 "cells": [
  {
   "cell_type": "code",
   "execution_count": 3,
   "id": "6c2ecf72",
   "metadata": {},
   "outputs": [
    {
     "name": "stdout",
     "output_type": "stream",
     "text": [
      "Enter the desired password length: 12\n",
      "Generated Password: *}hde#1sJ!z}\n"
     ]
    }
   ],
   "source": [
    "import random\n",
    "import string\n",
    "\n",
    "def generate_password(length):\n",
    "    # Define possible characters for the password\n",
    "    characters = string.ascii_letters + string.digits + string.punctuation\n",
    "    \n",
    "    # Generate a random password of the specified length\n",
    "    password = ''.join(random.choice(characters) for _ in range(length))\n",
    "    \n",
    "    return password\n",
    "\n",
    "# Main function to prompt the user and display the password\n",
    "def main():\n",
    "    try:\n",
    "        # Ask the user for the desired password length\n",
    "        length = int(input(\"Enter the desired password length: \"))\n",
    "        \n",
    "        # Check if the length is positive\n",
    "        if length <= 0:\n",
    "            print(\"Please enter a positive integer for the password length.\")\n",
    "            return\n",
    "        \n",
    "        # Generate and display the password\n",
    "        password = generate_password(length)\n",
    "        print(\"Generated Password:\", password)\n",
    "    \n",
    "    except ValueError:\n",
    "        print(\"Invalid input. Please enter a numeric value for the length.\")\n",
    "\n",
    "# Run the main function\n",
    "main()"
   ]
  },
  {
   "cell_type": "code",
   "execution_count": null,
   "id": "446654ca",
   "metadata": {},
   "outputs": [],
   "source": []
  },
  {
   "cell_type": "code",
   "execution_count": null,
   "id": "f7b844c9",
   "metadata": {},
   "outputs": [],
   "source": []
  }
 ],
 "metadata": {
  "kernelspec": {
   "display_name": "Python 3 (ipykernel)",
   "language": "python",
   "name": "python3"
  },
  "language_info": {
   "codemirror_mode": {
    "name": "ipython",
    "version": 3
   },
   "file_extension": ".py",
   "mimetype": "text/x-python",
   "name": "python",
   "nbconvert_exporter": "python",
   "pygments_lexer": "ipython3",
   "version": "3.11.4"
  }
 },
 "nbformat": 4,
 "nbformat_minor": 5
}
