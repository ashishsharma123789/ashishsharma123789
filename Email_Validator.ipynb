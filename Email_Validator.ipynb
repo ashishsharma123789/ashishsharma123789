{
 "cells": [
  {
   "cell_type": "code",
   "execution_count": 1,
   "id": "21e3d50d",
   "metadata": {},
   "outputs": [
    {
     "name": "stdout",
     "output_type": "stream",
     "text": [
      "Enter an email address to validate:ashkhcszl\n",
      "'ashkhcszl'is not a valid email address\n",
      "Want to validate another email address?(yes to continue, no to exit):yes\n",
      "Enter an email address to validate:arun@gmail.com\n",
      "'arun@gmail.com'is a valid email address\n",
      "Want to validate another email address?(yes to continue, no to exit):no\n",
      "Exiting the email validate ............GoodBye\n"
     ]
    }
   ],
   "source": [
    "import re \n",
    "def is_valid_email(email):\n",
    "    email_regex=re.compile(r\"^[a-zA-Z0-9.+-]+@[a-zA-Z0-9-]+\\.[a-zA-Z0-9-.]+$\")\n",
    "    if email_regex.match(email):\n",
    "        return True\n",
    "    else:\n",
    "        return False\n",
    "while True:\n",
    "    email=input(\"Enter an email address to validate:\").strip()\n",
    "    if is_valid_email(email):\n",
    "        print(f\"'{email}'is a valid email address\")\n",
    "    else:\n",
    "        print(f\"'{email}'is not a valid email address\")\n",
    "    continue_choice=input(\"Want to validate another email address?(yes to continue, no to exit):\").strip().lower()\n",
    "    if continue_choice!=\"yes\":\n",
    "        print(\"Exiting the email validate ............GoodBye\")\n",
    "        break"
   ]
  },
  {
   "cell_type": "code",
   "execution_count": null,
   "id": "9bb17624",
   "metadata": {},
   "outputs": [],
   "source": []
  }
 ],
 "metadata": {
  "kernelspec": {
   "display_name": "Python 3 (ipykernel)",
   "language": "python",
   "name": "python3"
  },
  "language_info": {
   "codemirror_mode": {
    "name": "ipython",
    "version": 3
   },
   "file_extension": ".py",
   "mimetype": "text/x-python",
   "name": "python",
   "nbconvert_exporter": "python",
   "pygments_lexer": "ipython3",
   "version": "3.11.4"
  }
 },
 "nbformat": 4,
 "nbformat_minor": 5
}
