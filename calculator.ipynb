{
 "cells": [
  {
   "cell_type": "code",
   "execution_count": 6,
   "id": "b6fdb124",
   "metadata": {},
   "outputs": [
    {
     "name": "stdout",
     "output_type": "stream",
     "text": [
      "\t\t   Basic calculator\n",
      "\t\t\t --------------------\n",
      "Enter first number:56\n",
      "Enter second number:78\n",
      "Enter an operator which you want to choose(+,-,x,/,%):x\n",
      "The result of 56.0x78.0is: 4368.0\n",
      "Want to perform another calculation?(yes to continue, no to exit):yes\n",
      "Enter first number:67\n",
      "Enter second number:90\n",
      "Enter an operator which you want to choose(+,-,x,/,%):+\n",
      "The result of 67.0+90.0is: 157.0\n",
      "Want to perform another calculation?(yes to continue, no to exit):no\n",
      "Exiting the calculator..............GoodBye\n"
     ]
    }
   ],
   "source": [
    "def add(x,y):\n",
    "    return x+y\n",
    "def substract(x,y):\n",
    "    return x-y\n",
    "def multiply(x,y):\n",
    "    return x*y\n",
    "def divide(x,y):\n",
    "    if y1!=0:\n",
    "        return x/y\n",
    "    else:\n",
    "        return \"Error:Divsion by zero is not possible:\"\n",
    "def modulo(x,y):\n",
    "    return x%y\n",
    "print(\"\\t\\t   Basic calculator\")\n",
    "print(\"\\t\\t\\t --------------------\")\n",
    "while True:\n",
    "    num1=float(input(\"Enter first number:\"))\n",
    "    num2=float(input(\"Enter second number:\"))\n",
    "    operator=input(\"Enter an operator which you want to choose(+,-,x,/,%):\").strip()\n",
    "              \n",
    "    if operator=='+':\n",
    "               result=add(num1,num2)\n",
    "    elif operator=='-':\n",
    "               result=substract(num1,num2)\n",
    "    elif operator=='x':\n",
    "               result=multiply(num1,num2)\n",
    "    elif operator=='/':\n",
    "               result=divide(num1,num2)\n",
    "    elif operator=='%':\n",
    "               result=modulo(num1,num2)\n",
    "    else:\n",
    "              \n",
    "               print(\"Error: Invalid operator:\")\n",
    "    print(f\"The result of {num1}{operator}{num2}is: {result}\")\n",
    "    continue_choice=input(\"Want to perform another calculation?(yes to continue, no to exit):\").strip().lower()\n",
    "    if continue_choice!=\"yes\":\n",
    "              print(\"Exiting the calculator..............GoodBye\")\n",
    "              break\n",
    "              \n",
    "              \n",
    "    "
   ]
  }
 ],
 "metadata": {
  "kernelspec": {
   "display_name": "Python 3 (ipykernel)",
   "language": "python",
   "name": "python3"
  },
  "language_info": {
   "codemirror_mode": {
    "name": "ipython",
    "version": 3
   },
   "file_extension": ".py",
   "mimetype": "text/x-python",
   "name": "python",
   "nbconvert_exporter": "python",
   "pygments_lexer": "ipython3",
   "version": "3.11.4"
  }
 },
 "nbformat": 4,
 "nbformat_minor": 5
}
