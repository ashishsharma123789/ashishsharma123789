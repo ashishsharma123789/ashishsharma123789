{
 "cells": [
  {
   "cell_type": "code",
   "execution_count": 1,
   "id": "d05baed6",
   "metadata": {},
   "outputs": [
    {
     "name": "stdout",
     "output_type": "stream",
     "text": [
      "Simple Calculator\n",
      "Select operation:\n",
      "1. Add\n",
      "2. Subtract\n",
      "3. Multiply\n",
      "4. Divide\n",
      "Enter choice (1/2/3/4): 4\n",
      "Enter first number: 56\n",
      "Enter second number: 9870\n",
      "56.0 / 9870.0 = 0.005673758865248227\n"
     ]
    }
   ],
   "source": [
    "def calculator():\n",
    "    print(\"Simple Calculator\")\n",
    "    print(\"Select operation:\")\n",
    "    print(\"1. Add\")\n",
    "    print(\"2. Subtract\")\n",
    "    print(\"3. Multiply\")\n",
    "    print(\"4. Divide\")\n",
    "    \n",
    "    # Get operation choice\n",
    "    choice = input(\"Enter choice (1/2/3/4): \")\n",
    "    \n",
    "    # Check if choice is valid\n",
    "    if choice in ['1', '2', '3', '4']:\n",
    "        # Get numbers from the user\n",
    "        try:\n",
    "            num1 = float(input(\"Enter first number: \"))\n",
    "            num2 = float(input(\"Enter second number: \"))\n",
    "        except ValueError:\n",
    "            print(\"Invalid input. Please enter numbers only.\")\n",
    "            return\n",
    "        \n",
    "        # Perform the calculation\n",
    "        if choice == '1':\n",
    "            result = num1 + num2\n",
    "            print(f\"{num1} + {num2} = {result}\")\n",
    "        elif choice == '2':\n",
    "            result = num1 - num2\n",
    "            print(f\"{num1} - {num2} = {result}\")\n",
    "        elif choice == '3':\n",
    "            result = num1 * num2\n",
    "            print(f\"{num1} * {num2} = {result}\")\n",
    "        elif choice == '4':\n",
    "            if num2 == 0:\n",
    "                print(\"Error! Division by zero.\")\n",
    "            else:\n",
    "                result = num1 / num2\n",
    "                print(f\"{num1} / {num2} = {result}\")\n",
    "    else:\n",
    "        print(\"Invalid choice. Please select a valid operation.\")\n",
    "\n",
    "# Run the calculator function\n",
    "calculator()"
   ]
  },
  {
   "cell_type": "code",
   "execution_count": null,
   "id": "427b8ad0",
   "metadata": {},
   "outputs": [],
   "source": []
  }
 ],
 "metadata": {
  "kernelspec": {
   "display_name": "Python 3 (ipykernel)",
   "language": "python",
   "name": "python3"
  },
  "language_info": {
   "codemirror_mode": {
    "name": "ipython",
    "version": 3
   },
   "file_extension": ".py",
   "mimetype": "text/x-python",
   "name": "python",
   "nbconvert_exporter": "python",
   "pygments_lexer": "ipython3",
   "version": "3.11.4"
  }
 },
 "nbformat": 4,
 "nbformat_minor": 5
}
